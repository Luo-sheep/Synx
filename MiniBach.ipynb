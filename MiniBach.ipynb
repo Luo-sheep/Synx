{
 "cells": [
  {
   "cell_type": "code",
   "id": "initial_id",
   "metadata": {
    "collapsed": true,
    "ExecuteTime": {
     "end_time": "2025-10-20T08:49:04.548686Z",
     "start_time": "2025-10-20T08:49:04.543601Z"
    }
   },
   "source": [
    "import random\n",
    "\n",
    "class BatchDataLoader:\n",
    "    def __init__(self, data, batch_size, shuffle=False):\n",
    "        \"\"\"\n",
    "        初始化数据加载器\n",
    "        :param data: 原始数据列表，例如 [1, 2, ..., 20]\n",
    "        :param batch_size: 每个批次的样本数量\n",
    "        :param shuffle: 是否打乱数据顺序（默认 False）\n",
    "        \"\"\"\n",
    "        self.data = data.copy()  # 避免修改原始数据\n",
    "        self.batch_size = batch_size\n",
    "        self.shuffle = shuffle\n",
    "        self.index = 0\n",
    "\n",
    "        if self.shuffle:\n",
    "            random.shuffle(self.data)\n",
    "#返回迭代器对象本身\n",
    "    def __iter__(self):\n",
    "        self.index = 0  # 每次迭代重置索引\n",
    "        return self\n",
    "\n",
    "#返回下一个批次数据\n",
    "    def __next__(self):\n",
    "        if self.index >= len(self.data):\n",
    "            raise StopIteration\n",
    "\n",
    "        batch = self.data[self.index:self.index + self.batch_size]\n",
    "        self.index += self.batch_size\n",
    "        return batch\n"
   ],
   "outputs": [],
   "execution_count": 15
  },
  {
   "metadata": {
    "ExecuteTime": {
     "end_time": "2025-10-20T08:49:04.564121Z",
     "start_time": "2025-10-20T08:49:04.559826Z"
    }
   },
   "cell_type": "code",
   "source": [
    "data = list(range(1, 21))\n",
    "loader = BatchDataLoader(data, batch_size=6)\n",
    "\n",
    "for batch in loader:\n",
    "    print(batch)"
   ],
   "id": "230b11e70b2bb014",
   "outputs": [
    {
     "name": "stdout",
     "output_type": "stream",
     "text": [
      "[1, 2, 3, 4, 5, 6]\n",
      "[7, 8, 9, 10, 11, 12]\n",
      "[13, 14, 15, 16, 17, 18]\n",
      "[19, 20]\n"
     ]
    }
   ],
   "execution_count": 16
  },
  {
   "metadata": {
    "collapsed": true,
    "ExecuteTime": {
     "end_time": "2025-10-20T08:49:04.593488Z",
     "start_time": "2025-10-20T08:49:04.589369Z"
    }
   },
   "cell_type": "code",
   "source": [
    "import random\n",
    "\n",
    "class BatchDataLoader:\n",
    "    def __init__(self, data, batch_size, shuffle=True):\n",
    "        \"\"\"\n",
    "        初始化数据加载器\n",
    "        :param data: 原始数据列表，例如 [1, 2, ..., 20]\n",
    "        :param batch_size: 每个批次的样本数量\n",
    "        :param shuffle: 是否打乱数据顺序（默认 False）\n",
    "        \"\"\"\n",
    "        self.data = data.copy()  # 避免修改原始数据\n",
    "        self.batch_size = batch_size\n",
    "        self.shuffle = shuffle\n",
    "        self.index = 0\n",
    "\n",
    "        if self.shuffle:\n",
    "            random.shuffle(self.data)\n",
    "#返回迭代器对象本身\n",
    "    def __iter__(self):\n",
    "        self.index = 0  # 每次迭代重置索引\n",
    "        return self\n",
    "\n",
    "#返回下一个批次数据\n",
    "    def __next__(self):\n",
    "        if self.index >= len(self.data):\n",
    "            raise StopIteration\n",
    "\n",
    "        batch = self.data[self.index:self.index + self.batch_size]\n",
    "        self.index += self.batch_size\n",
    "        return batch\n"
   ],
   "id": "4cd9c6814017417d",
   "outputs": [],
   "execution_count": 17
  },
  {
   "metadata": {
    "ExecuteTime": {
     "end_time": "2025-10-20T08:49:04.617093Z",
     "start_time": "2025-10-20T08:49:04.613845Z"
    }
   },
   "cell_type": "code",
   "source": [
    "data = list(range(1, 21))\n",
    "loader = BatchDataLoader(data, batch_size=6)\n",
    "\n",
    "for batch in loader:\n",
    "    print(batch)"
   ],
   "id": "2fb7af74ab07a34d",
   "outputs": [
    {
     "name": "stdout",
     "output_type": "stream",
     "text": [
      "[12, 16, 1, 8, 14, 11]\n",
      "[2, 18, 19, 13, 5, 9]\n",
      "[20, 7, 4, 17, 10, 3]\n",
      "[6, 15]\n"
     ]
    }
   ],
   "execution_count": 18
  }
 ],
 "metadata": {
  "kernelspec": {
   "display_name": "Python 3",
   "language": "python",
   "name": "python3"
  },
  "language_info": {
   "codemirror_mode": {
    "name": "ipython",
    "version": 2
   },
   "file_extension": ".py",
   "mimetype": "text/x-python",
   "name": "python",
   "nbconvert_exporter": "python",
   "pygments_lexer": "ipython2",
   "version": "2.7.6"
  }
 },
 "nbformat": 4,
 "nbformat_minor": 5
}
