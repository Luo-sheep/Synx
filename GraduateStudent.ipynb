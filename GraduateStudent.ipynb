{
 "cells": [
  {
   "metadata": {
    "ExecuteTime": {
     "end_time": "2025-10-19T15:25:03.193327Z",
     "start_time": "2025-10-19T15:25:03.189492Z"
    }
   },
   "cell_type": "code",
   "source": [
    "class Student:\n",
    "    def __init__(self, name, age, scores):\n",
    "        self.name = name\n",
    "        self.age = age\n",
    "        self.__scores = scores\n",
    "\n",
    "    def introduce(self):\n",
    "        print(f\"我是{self.name}，今年{self.age}岁，成绩：{self.__scores}\")\n",
    "\n",
    "    def get_average(self):\n",
    "        return int(sum(self.__scores.values()) / len(self.__scores))\n",
    "\n",
    "    #强制整型int（分数同一为整数）\n",
    "\n",
    "    def update_score(self, subject, value):\n",
    "        if subject in self.__scores:\n",
    "            self.__scores[subject] = value"
   ],
   "id": "2490723b0dd47590",
   "outputs": [],
   "execution_count": 4
  },
  {
   "metadata": {
    "collapsed": true,
    "ExecuteTime": {
     "end_time": "2025-10-19T15:25:03.211890Z",
     "start_time": "2025-10-19T15:25:03.209114Z"
    }
   },
   "cell_type": "code",
   "source": [
    "class GraduateStudent(Student):\n",
    "    def __init__(self, name, age, scores, research_topic):\n",
    "        super().__init__(name, age, scores)\n",
    "        self.research_topic = research_topic\n",
    "\n",
    "    def introduce(self):\n",
    "        print(f\"我是{self.name}，今年{self.age}岁，研究方向：{self.research_topic}\")"
   ],
   "id": "initial_id",
   "outputs": [],
   "execution_count": 5
  },
  {
   "metadata": {
    "ExecuteTime": {
     "end_time": "2025-10-19T15:25:03.224604Z",
     "start_time": "2025-10-19T15:25:03.221120Z"
    }
   },
   "cell_type": "code",
   "source": [
    "g1 = GraduateStudent(\"李四\", 24, {\"语文\": 90, \"数学\": 85, \"英语\": 92}, \"机器学习\")\n",
    "g1.introduce()"
   ],
   "id": "d801811e89d5c556",
   "outputs": [
    {
     "name": "stdout",
     "output_type": "stream",
     "text": [
      "我是李四，今年24岁，研究方向：机器学习\n"
     ]
    }
   ],
   "execution_count": 6
  }
 ],
 "metadata": {
  "kernelspec": {
   "display_name": "Python 3",
   "language": "python",
   "name": "python3"
  },
  "language_info": {
   "codemirror_mode": {
    "name": "ipython",
    "version": 2
   },
   "file_extension": ".py",
   "mimetype": "text/x-python",
   "name": "python",
   "nbconvert_exporter": "python",
   "pygments_lexer": "ipython2",
   "version": "2.7.6"
  }
 },
 "nbformat": 4,
 "nbformat_minor": 5
}
