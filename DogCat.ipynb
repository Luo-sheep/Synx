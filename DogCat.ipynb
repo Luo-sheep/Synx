{
 "cells": [
  {
   "metadata": {
    "ExecuteTime": {
     "end_time": "2025-10-19T15:32:38.012597Z",
     "start_time": "2025-10-19T15:32:38.009498Z"
    }
   },
   "cell_type": "code",
   "source": [
    "def animal_speak(animal):\n",
    "    animal.speak()"
   ],
   "id": "1041ab7724513907",
   "outputs": [],
   "execution_count": 1
  },
  {
   "metadata": {
    "ExecuteTime": {
     "end_time": "2025-10-19T15:32:38.098177Z",
     "start_time": "2025-10-19T15:32:38.095089Z"
    }
   },
   "cell_type": "code",
   "source": [
    "class Dog:\n",
    "    def speak(self):\n",
    "        print(\"汪汪\")\n",
    "\n",
    "class Cat:\n",
    "    def speak(self):\n",
    "        print(\"喵喵\")\n"
   ],
   "id": "8aecb498aa09a93",
   "outputs": [],
   "execution_count": 2
  },
  {
   "metadata": {
    "ExecuteTime": {
     "end_time": "2025-10-19T15:32:38.112549Z",
     "start_time": "2025-10-19T15:32:38.109501Z"
    }
   },
   "cell_type": "code",
   "source": [
    "dog = Dog()\n",
    "cat = Cat()\n",
    "\n",
    "animal_speak(dog)\n",
    "animal_speak(cat)"
   ],
   "id": "ea63ead52cb1bd27",
   "outputs": [
    {
     "name": "stdout",
     "output_type": "stream",
     "text": [
      "汪汪\n",
      "喵喵\n"
     ]
    }
   ],
   "execution_count": 3
  }
 ],
 "metadata": {
  "kernelspec": {
   "display_name": "Python 3",
   "language": "python",
   "name": "python3"
  },
  "language_info": {
   "codemirror_mode": {
    "name": "ipython",
    "version": 2
   },
   "file_extension": ".py",
   "mimetype": "text/x-python",
   "name": "python",
   "nbconvert_exporter": "python",
   "pygments_lexer": "ipython2",
   "version": "2.7.6"
  }
 },
 "nbformat": 4,
 "nbformat_minor": 5
}
