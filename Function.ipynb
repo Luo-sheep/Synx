{
 "cells": [
  {
   "cell_type": "code",
   "id": "initial_id",
   "metadata": {
    "collapsed": true,
    "ExecuteTime": {
     "end_time": "2025-10-19T11:49:45.485514Z",
     "start_time": "2025-10-19T11:49:45.478392Z"
    }
   },
   "source": [
    "def get_fibonacci(n):\n",
    "    fib = []\n",
    "    a, b = 0, 1\n",
    "    for _ in range(n):\n",
    "        fib.append(a)\n",
    "        a, b = b, a + b\n",
    "    return fib\n",
    "\n",
    "print(\"get_fibonacci(10):\", get_fibonacci(10))"
   ],
   "outputs": [
    {
     "name": "stdout",
     "output_type": "stream",
     "text": [
      "get_fibonacci(10): [0, 1, 1, 2, 3, 5, 8, 13, 21, 34]\n"
     ]
    }
   ],
   "execution_count": 1
  },
  {
   "metadata": {
    "ExecuteTime": {
     "end_time": "2025-10-19T11:57:16.996345Z",
     "start_time": "2025-10-19T11:57:16.991725Z"
    }
   },
   "cell_type": "code",
   "source": [
    "def if_prime(x):\n",
    "    if x < 2:\n",
    "        return False\n",
    "    for i in range(2, int(x ** 0.5) + 1):\n",
    "        if x % i == 0:\n",
    "            return False\n",
    "    return True\n",
    "\n",
    "def get_primes(n):\n",
    "    primes = []\n",
    "    num = 2\n",
    "    while len(primes) < n:\n",
    "        if if_prime(num):\n",
    "            primes.append(num)\n",
    "        num += 1\n",
    "    return primes\n",
    "\n",
    "# 调用并输出前 10 个质数\n",
    "print(\"get_primes(10):\", get_primes(10))\n"
   ],
   "id": "947d17c55483b84e",
   "outputs": [
    {
     "name": "stdout",
     "output_type": "stream",
     "text": [
      "get_primes(10): [2, 3, 5, 7, 11, 13, 17, 19, 23, 29]\n"
     ]
    }
   ],
   "execution_count": 3
  }
 ],
 "metadata": {
  "kernelspec": {
   "display_name": "Python 3",
   "language": "python",
   "name": "python3"
  },
  "language_info": {
   "codemirror_mode": {
    "name": "ipython",
    "version": 2
   },
   "file_extension": ".py",
   "mimetype": "text/x-python",
   "name": "python",
   "nbconvert_exporter": "python",
   "pygments_lexer": "ipython2",
   "version": "2.7.6"
  }
 },
 "nbformat": 4,
 "nbformat_minor": 5
}
