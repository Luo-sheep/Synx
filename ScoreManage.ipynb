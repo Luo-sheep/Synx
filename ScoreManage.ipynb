{
 "cells": [
  {
   "metadata": {
    "ExecuteTime": {
     "end_time": "2025-10-19T13:08:29.843143Z",
     "start_time": "2025-10-19T13:08:29.839659Z"
    }
   },
   "cell_type": "code",
   "source": [
    "students = [\n",
    "    {\"name\": \"张三\", \"scores\": {\"语文\": 85, \"数学\": 92, \"英语\": 78}},\n",
    "    {\"name\": \"李四\", \"scores\": {\"语文\": 95, \"数学\": 91, \"英语\": 93}},\n",
    "    {\"name\": \"王五\", \"scores\": {\"语文\": 56, \"数学\": 56, \"英语\": 96}},\n",
    "    {\"name\": \"赵六\", \"scores\": {\"语文\": 87, \"数学\": 78, \"英语\": 95}},\n",
    "    {\"name\": \"孙七\", \"scores\": {\"语文\": 89, \"数学\": 68, \"英语\": 94}},\n",
    "]"
   ],
   "id": "2d36a61c92ab289c",
   "outputs": [],
   "execution_count": 5
  },
  {
   "metadata": {
    "ExecuteTime": {
     "end_time": "2025-10-19T13:08:29.872777Z",
     "start_time": "2025-10-19T13:08:29.869017Z"
    }
   },
   "cell_type": "code",
   "source": [
    "for student in students:\n",
    "    total = sum(student[\"scores\"].values())\n",
    "    average = total / len(student[\"scores\"])\n",
    "    print(f'{student[\"name\"]}: 总分={total}, 平均分={average:.1f}')"
   ],
   "id": "1495a80f62be343e",
   "outputs": [
    {
     "name": "stdout",
     "output_type": "stream",
     "text": [
      "张三: 总分=255, 平均分=85.0\n",
      "李四: 总分=279, 平均分=93.0\n",
      "王五: 总分=208, 平均分=69.3\n",
      "赵六: 总分=260, 平均分=86.7\n",
      "孙七: 总分=251, 平均分=83.7\n"
     ]
    }
   ],
   "execution_count": 6
  },
  {
   "metadata": {
    "ExecuteTime": {
     "end_time": "2025-10-19T13:08:29.893793Z",
     "start_time": "2025-10-19T13:08:29.891218Z"
    }
   },
   "cell_type": "code",
   "source": [
    "# 添加新学生\n",
    "students.append({\n",
    "    \"name\": \"郑十\",\n",
    "    \"scores\": {\"语文\": 92, \"数学\": 91, \"英语\": 86}\n",
    "})"
   ],
   "id": "73e9a17a7e8ca274",
   "outputs": [],
   "execution_count": 7
  },
  {
   "metadata": {
    "ExecuteTime": {
     "end_time": "2025-10-19T13:08:29.905588Z",
     "start_time": "2025-10-19T13:08:29.902548Z"
    }
   },
   "cell_type": "code",
   "source": [
    "# 找出总分最高的学生\n",
    "top_student = None\n",
    "top_score = -1\n",
    "\n",
    "for student in students:\n",
    "    total = sum(student[\"scores\"].values())\n",
    "    if total > top_score:\n",
    "        top_score = total\n",
    "        top_student = student\n",
    "\n",
    "print(f\"总分最高的学生是 {top_student['name']}，总分={top_score}\")"
   ],
   "id": "e225a421feb1751c",
   "outputs": [
    {
     "name": "stdout",
     "output_type": "stream",
     "text": [
      "总分最高的学生是 李四，总分=279\n"
     ]
    }
   ],
   "execution_count": 8
  },
  {
   "metadata": {
    "ExecuteTime": {
     "end_time": "2025-10-19T13:08:29.929462Z",
     "start_time": "2025-10-19T13:08:29.926485Z"
    }
   },
   "cell_type": "code",
   "source": [
    "# 更新赵六的数学成绩\n",
    "for student in students:\n",
    "    if student[\"name\"] == \"赵六\":\n",
    "        student[\"scores\"][\"数学\"] += 5\n",
    "        total = sum(student[\"scores\"].values())\n",
    "        average = total / len(student[\"scores\"])\n",
    "        print(f\"{student['name']}: 总分={total}, 平均分={average:.1f}（数学成绩已更新）\")\n",
    "        break"
   ],
   "id": "331f0d55d2d7567d",
   "outputs": [
    {
     "name": "stdout",
     "output_type": "stream",
     "text": [
      "赵六: 总分=265, 平均分=88.3（数学成绩已更新）\n"
     ]
    }
   ],
   "execution_count": 9
  },
  {
   "metadata": {
    "ExecuteTime": {
     "end_time": "2025-10-19T13:08:29.951374Z",
     "start_time": "2025-10-19T13:08:29.941337Z"
    }
   },
   "cell_type": "code",
   "source": [
    "# 修改数据\n",
    "subjects = [\"语文\", \"数学\", \"英语\"]\n",
    "subject_totals = {subj: 0 for subj in subjects}\n",
    "subject_tops = {subj: {\"score\": -1, \"names\": []} for subj in subjects}\n",
    "\n",
    "# 遍历\n",
    "for student in students:\n",
    "    for subj in subjects:\n",
    "        score = student[\"scores\"][subj]\n",
    "        subject_totals[subj] += score\n",
    "        if score > subject_tops[subj][\"score\"]:\n",
    "            subject_tops[subj][\"score\"] = score\n",
    "            subject_tops[subj][\"names\"] = [student[\"name\"]]\n",
    "        elif score == subject_tops[subj][\"score\"]:\n",
    "            subject_tops[subj][\"names\"].append(student[\"name\"])\n",
    "\n",
    "# 输出结果\n",
    "for subj in subjects:\n",
    "    avg = subject_totals[subj] / len(students)\n",
    "    top_names = \", \".join(subject_tops[subj][\"names\"])\n",
    "    top_score = subject_tops[subj][\"score\"]\n",
    "    print(f\"{subj}平均分={avg:.1f}，最高分={top_score}，学生：{top_names}\")\n"
   ],
   "id": "609cffed0d6205a3",
   "outputs": [
    {
     "name": "stdout",
     "output_type": "stream",
     "text": [
      "语文平均分=84.0，最高分=95，学生：李四\n",
      "数学平均分=80.2，最高分=92，学生：张三\n",
      "英语平均分=90.3，最高分=96，学生：王五\n"
     ]
    }
   ],
   "execution_count": 10
  }
 ],
 "metadata": {
  "kernelspec": {
   "display_name": "Python 3",
   "language": "python",
   "name": "python3"
  },
  "language_info": {
   "codemirror_mode": {
    "name": "ipython",
    "version": 2
   },
   "file_extension": ".py",
   "mimetype": "text/x-python",
   "name": "python",
   "nbconvert_exporter": "python",
   "pygments_lexer": "ipython2",
   "version": "2.7.6"
  }
 },
 "nbformat": 4,
 "nbformat_minor": 5
}
