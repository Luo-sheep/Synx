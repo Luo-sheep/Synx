{
 "cells": [
  {
   "cell_type": "code",
   "id": "initial_id",
   "metadata": {
    "collapsed": true,
    "ExecuteTime": {
     "end_time": "2025-10-19T14:46:23.401878Z",
     "start_time": "2025-10-19T14:46:23.398359Z"
    }
   },
   "source": [
    "class Student:\n",
    "    def __init__(self, name, age, scores):\n",
    "        self.name = name\n",
    "        self.age = age\n",
    "        self.__scores = scores\n",
    "\n",
    "    def introduce(self):\n",
    "        print(f\"我是{self.name}，今年{self.age}岁，成绩：{self.__scores}\")\n",
    "\n",
    "    def get_average(self):\n",
    "        return int(sum(self.__scores.values()) / len(self.__scores))\n",
    "    #强制整型int（分数同一为整数）\n",
    "\n",
    "    def update_score(self, subject, value):\n",
    "        if subject in self.__scores:\n",
    "            self.__scores[subject] = value"
   ],
   "outputs": [],
   "execution_count": 9
  },
  {
   "metadata": {
    "ExecuteTime": {
     "end_time": "2025-10-19T14:46:23.423161Z",
     "start_time": "2025-10-19T14:46:23.420481Z"
    }
   },
   "cell_type": "code",
   "source": [
    "s1 = Student(\"张三\", 18, {\"语文\": 90, \"数学\": 85, \"英语\": 92})\n",
    "s2 = Student(\"李四\", 19, {\"语文\": 88, \"数学\": 90, \"英语\": 85})\n",
    "\n",
    "s1.introduce()\n",
    "print(\"平均分：\", s1.get_average())\n",
    "\n",
    "s2.introduce()\n",
    "print(\"平均分：\", s2.get_average())\n"
   ],
   "id": "1080c5a524e43899",
   "outputs": [
    {
     "name": "stdout",
     "output_type": "stream",
     "text": [
      "我是张三，今年18岁，成绩：{'语文': 90, '数学': 85, '英语': 92}\n",
      "平均分： 89\n",
      "我是李四，今年19岁，成绩：{'语文': 88, '数学': 90, '英语': 85}\n",
      "平均分： 87\n"
     ]
    }
   ],
   "execution_count": 10
  },
  {
   "metadata": {
    "ExecuteTime": {
     "end_time": "2025-10-19T14:46:23.459760Z",
     "start_time": "2025-10-19T14:46:23.446774Z"
    }
   },
   "cell_type": "code",
   "source": [
    "s1 = Student(\"张三\", 18, {\"语文\": 90, \"数学\": 85, \"英语\": 92})\n",
    "s2 = Student(\"李四\", 19, {\"语文\": 88, \"数学\": 90, \"英语\": 85})\n",
    "\n",
    "s1.__scores[\"数学\"] = 100\n",
    "\n",
    "s1.introduce()\n",
    "print(\"平均分：\", s1.get_average())\n",
    "\n",
    "s2.introduce()\n",
    "print(\"平均分：\", s2.get_average())\n"
   ],
   "id": "591c6331f4dd1861",
   "outputs": [
    {
     "ename": "AttributeError",
     "evalue": "'Student' object has no attribute '__scores'",
     "output_type": "error",
     "traceback": [
      "\u001B[31m---------------------------------------------------------------------------\u001B[39m",
      "\u001B[31mAttributeError\u001B[39m                            Traceback (most recent call last)",
      "\u001B[36mCell\u001B[39m\u001B[36m \u001B[39m\u001B[32mIn[11]\u001B[39m\u001B[32m, line 4\u001B[39m\n\u001B[32m      1\u001B[39m s1 = Student(\u001B[33m\"\u001B[39m\u001B[33m张三\u001B[39m\u001B[33m\"\u001B[39m, \u001B[32m18\u001B[39m, {\u001B[33m\"\u001B[39m\u001B[33m语文\u001B[39m\u001B[33m\"\u001B[39m: \u001B[32m90\u001B[39m, \u001B[33m\"\u001B[39m\u001B[33m数学\u001B[39m\u001B[33m\"\u001B[39m: \u001B[32m85\u001B[39m, \u001B[33m\"\u001B[39m\u001B[33m英语\u001B[39m\u001B[33m\"\u001B[39m: \u001B[32m92\u001B[39m})\n\u001B[32m      2\u001B[39m s2 = Student(\u001B[33m\"\u001B[39m\u001B[33m李四\u001B[39m\u001B[33m\"\u001B[39m, \u001B[32m19\u001B[39m, {\u001B[33m\"\u001B[39m\u001B[33m语文\u001B[39m\u001B[33m\"\u001B[39m: \u001B[32m88\u001B[39m, \u001B[33m\"\u001B[39m\u001B[33m数学\u001B[39m\u001B[33m\"\u001B[39m: \u001B[32m90\u001B[39m, \u001B[33m\"\u001B[39m\u001B[33m英语\u001B[39m\u001B[33m\"\u001B[39m: \u001B[32m85\u001B[39m})\n\u001B[32m----> \u001B[39m\u001B[32m4\u001B[39m \u001B[43ms1\u001B[49m\u001B[43m.\u001B[49m\u001B[43m__scores\u001B[49m[\u001B[33m\"\u001B[39m\u001B[33m数学\u001B[39m\u001B[33m\"\u001B[39m] = \u001B[32m100\u001B[39m\n\u001B[32m      6\u001B[39m s1.introduce()\n\u001B[32m      7\u001B[39m \u001B[38;5;28mprint\u001B[39m(\u001B[33m\"\u001B[39m\u001B[33m平均分：\u001B[39m\u001B[33m\"\u001B[39m, s1.get_average())\n",
      "\u001B[31mAttributeError\u001B[39m: 'Student' object has no attribute '__scores'"
     ]
    }
   ],
   "execution_count": 11
  },
  {
   "metadata": {
    "ExecuteTime": {
     "end_time": "2025-10-19T14:46:31.431609Z",
     "start_time": "2025-10-19T14:46:31.428195Z"
    }
   },
   "cell_type": "code",
   "source": [
    "s1 = Student(\"张三\", 18, {\"语文\": 90, \"数学\": 85, \"英语\": 92})\n",
    "s2 = Student(\"李四\", 19, {\"语文\": 88, \"数学\": 90, \"英语\": 85})\n",
    "\n",
    "s1.update_score(\"数学\", 100)\n",
    "\n",
    "s1.introduce()\n",
    "print(\"平均分：\", s1.get_average())\n",
    "\n",
    "s2.introduce()\n",
    "print(\"平均分：\", s2.get_average())\n"
   ],
   "id": "3992ac00b9480311",
   "outputs": [
    {
     "name": "stdout",
     "output_type": "stream",
     "text": [
      "我是张三，今年18岁，成绩：{'语文': 90, '数学': 100, '英语': 92}\n",
      "平均分： 94\n",
      "我是李四，今年19岁，成绩：{'语文': 88, '数学': 90, '英语': 85}\n",
      "平均分： 87\n"
     ]
    }
   ],
   "execution_count": 12
  }
 ],
 "metadata": {
  "kernelspec": {
   "display_name": "Python 3",
   "language": "python",
   "name": "python3"
  },
  "language_info": {
   "codemirror_mode": {
    "name": "ipython",
    "version": 2
   },
   "file_extension": ".py",
   "mimetype": "text/x-python",
   "name": "python",
   "nbconvert_exporter": "python",
   "pygments_lexer": "ipython2",
   "version": "2.7.6"
  }
 },
 "nbformat": 4,
 "nbformat_minor": 5
}
